{
  "nbformat": 4,
  "nbformat_minor": 0,
  "metadata": {
    "colab": {
      "name": "topic_modelling.ipynb",
      "provenance": [],
      "collapsed_sections": [],
      "authorship_tag": "ABX9TyNwD9ZQmVLghPCScqY1isVi",
      "include_colab_link": true
    },
    "kernelspec": {
      "name": "python3",
      "display_name": "Python 3"
    }
  },
  "cells": [
    {
      "cell_type": "markdown",
      "metadata": {
        "id": "view-in-github",
        "colab_type": "text"
      },
      "source": [
        "<a href=\"https://colab.research.google.com/github/jacobstac/topic-modeling/blob/master/topic_modelling.ipynb\" target=\"_parent\"><img src=\"https://colab.research.google.com/assets/colab-badge.svg\" alt=\"Open In Colab\"/></a>"
      ]
    },
    {
      "cell_type": "markdown",
      "metadata": {
        "id": "cLRwsqcOlN5e"
      },
      "source": [
        "This notebook is based on the guide: https://www.machinelearningplus.com/nlp/topic-modeling-gensim-python/"
      ]
    },
    {
      "cell_type": "code",
      "metadata": {
        "id": "-AnmZDivtsRq"
      },
      "source": [
        "!pip install pyLDAvis"
      ],
      "execution_count": null,
      "outputs": []
    },
    {
      "cell_type": "code",
      "metadata": {
        "id": "aY2SXtWPuCIq"
      },
      "source": [
        "!python3 -m spacy download en"
      ],
      "execution_count": null,
      "outputs": []
    },
    {
      "cell_type": "code",
      "metadata": {
        "id": "V4TzAIHtsPE5",
        "outputId": "4f683f1a-db33-43a5-c044-ddd859be9ad7",
        "colab": {
          "base_uri": "https://localhost:8080/",
          "height": 52
        }
      },
      "source": [
        "import nltk; nltk.download('stopwords')\n",
        "\n",
        "import re\n",
        "import numpy as np\n",
        "import pandas as pd\n",
        "from pprint import pprint\n",
        "\n",
        "import gensim\n",
        "import gensim.corpora as corpora\n",
        "from gensim.utils import simple_preprocess\n",
        "from gensim.models import CoherenceModel\n",
        "\n",
        "# for lemmatization, converts to root word, e.g \"baking\" --> \"bake\"\n",
        "import spacy\n",
        "\n",
        "import pyLDAvis\n",
        "import pyLDAvis.gensim \n",
        "import matplotlib.pyplot as plt\n",
        "%matplotlib inline"
      ],
      "execution_count": null,
      "outputs": [
        {
          "output_type": "stream",
          "text": [
            "[nltk_data] Downloading package stopwords to /root/nltk_data...\n",
            "[nltk_data]   Unzipping corpora/stopwords.zip.\n"
          ],
          "name": "stdout"
        }
      ]
    },
    {
      "cell_type": "markdown",
      "metadata": {
        "id": "qc0AG87g0Bpd"
      },
      "source": [
        "LDA creates a topic collection for each document. A topic is a collection of keywords. for instance if the topic is breakfast we could use keywords such as [juice, coffee, toast, egs, oatmeal, cornflakes]\n",
        "\n",
        "stopwords = words that are filtered out before processing of natural language data (text)\n"
      ]
    },
    {
      "cell_type": "code",
      "metadata": {
        "id": "ghWTwM-b0rPF",
        "outputId": "9e4c6baa-e3a6-449e-cd3e-8e076e219f1d",
        "colab": {
          "base_uri": "https://localhost:8080/",
          "height": 54
        }
      },
      "source": [
        "# NLTK Stop words\n",
        "from nltk.corpus import stopwords\n",
        "stop_words = stopwords.words('english')\n",
        "stop_words.extend(['from', 'subject', 're', 'edu', 'use'])\n",
        "print(stop_words)"
      ],
      "execution_count": null,
      "outputs": [
        {
          "output_type": "stream",
          "text": [
            "['i', 'me', 'my', 'myself', 'we', 'our', 'ours', 'ourselves', 'you', \"you're\", \"you've\", \"you'll\", \"you'd\", 'your', 'yours', 'yourself', 'yourselves', 'he', 'him', 'his', 'himself', 'she', \"she's\", 'her', 'hers', 'herself', 'it', \"it's\", 'its', 'itself', 'they', 'them', 'their', 'theirs', 'themselves', 'what', 'which', 'who', 'whom', 'this', 'that', \"that'll\", 'these', 'those', 'am', 'is', 'are', 'was', 'were', 'be', 'been', 'being', 'have', 'has', 'had', 'having', 'do', 'does', 'did', 'doing', 'a', 'an', 'the', 'and', 'but', 'if', 'or', 'because', 'as', 'until', 'while', 'of', 'at', 'by', 'for', 'with', 'about', 'against', 'between', 'into', 'through', 'during', 'before', 'after', 'above', 'below', 'to', 'from', 'up', 'down', 'in', 'out', 'on', 'off', 'over', 'under', 'again', 'further', 'then', 'once', 'here', 'there', 'when', 'where', 'why', 'how', 'all', 'any', 'both', 'each', 'few', 'more', 'most', 'other', 'some', 'such', 'no', 'nor', 'not', 'only', 'own', 'same', 'so', 'than', 'too', 'very', 's', 't', 'can', 'will', 'just', 'don', \"don't\", 'should', \"should've\", 'now', 'd', 'll', 'm', 'o', 're', 've', 'y', 'ain', 'aren', \"aren't\", 'couldn', \"couldn't\", 'didn', \"didn't\", 'doesn', \"doesn't\", 'hadn', \"hadn't\", 'hasn', \"hasn't\", 'haven', \"haven't\", 'isn', \"isn't\", 'ma', 'mightn', \"mightn't\", 'mustn', \"mustn't\", 'needn', \"needn't\", 'shan', \"shan't\", 'shouldn', \"shouldn't\", 'wasn', \"wasn't\", 'weren', \"weren't\", 'won', \"won't\", 'wouldn', \"wouldn't\", 'from', 'subject', 're', 'edu', 'use']\n"
          ],
          "name": "stdout"
        }
      ]
    },
    {
      "cell_type": "markdown",
      "metadata": {
        "id": "i3ZwWl6F4_le"
      },
      "source": [
        "The newgroups data set contains 20 unique topics as printed below. The amount of post are around 11000. "
      ]
    },
    {
      "cell_type": "code",
      "metadata": {
        "id": "hxz1ufan4Umw",
        "outputId": "acb340b0-0135-4d2c-cd51-c325d5c375fc",
        "colab": {
          "base_uri": "https://localhost:8080/",
          "height": 454
        }
      },
      "source": [
        "# Import Dataset\n",
        "df = pd.read_json('https://raw.githubusercontent.com/selva86/datasets/master/newsgroups.json')\n",
        "print(df.target_names.unique())\n",
        "df.head(10)"
      ],
      "execution_count": null,
      "outputs": [
        {
          "output_type": "stream",
          "text": [
            "['rec.autos' 'comp.sys.mac.hardware' 'comp.graphics' 'sci.space'\n",
            " 'talk.politics.guns' 'sci.med' 'comp.sys.ibm.pc.hardware'\n",
            " 'comp.os.ms-windows.misc' 'rec.motorcycles' 'talk.religion.misc'\n",
            " 'misc.forsale' 'alt.atheism' 'sci.electronics' 'comp.windows.x'\n",
            " 'rec.sport.hockey' 'rec.sport.baseball' 'soc.religion.christian'\n",
            " 'talk.politics.mideast' 'talk.politics.misc' 'sci.crypt']\n"
          ],
          "name": "stdout"
        },
        {
          "output_type": "execute_result",
          "data": {
            "text/html": [
              "<div>\n",
              "<style scoped>\n",
              "    .dataframe tbody tr th:only-of-type {\n",
              "        vertical-align: middle;\n",
              "    }\n",
              "\n",
              "    .dataframe tbody tr th {\n",
              "        vertical-align: top;\n",
              "    }\n",
              "\n",
              "    .dataframe thead th {\n",
              "        text-align: right;\n",
              "    }\n",
              "</style>\n",
              "<table border=\"1\" class=\"dataframe\">\n",
              "  <thead>\n",
              "    <tr style=\"text-align: right;\">\n",
              "      <th></th>\n",
              "      <th>content</th>\n",
              "      <th>target</th>\n",
              "      <th>target_names</th>\n",
              "    </tr>\n",
              "  </thead>\n",
              "  <tbody>\n",
              "    <tr>\n",
              "      <th>0</th>\n",
              "      <td>From: lerxst@wam.umd.edu (where's my thing)\\nS...</td>\n",
              "      <td>7</td>\n",
              "      <td>rec.autos</td>\n",
              "    </tr>\n",
              "    <tr>\n",
              "      <th>1</th>\n",
              "      <td>From: guykuo@carson.u.washington.edu (Guy Kuo)...</td>\n",
              "      <td>4</td>\n",
              "      <td>comp.sys.mac.hardware</td>\n",
              "    </tr>\n",
              "    <tr>\n",
              "      <th>2</th>\n",
              "      <td>From: twillis@ec.ecn.purdue.edu (Thomas E Will...</td>\n",
              "      <td>4</td>\n",
              "      <td>comp.sys.mac.hardware</td>\n",
              "    </tr>\n",
              "    <tr>\n",
              "      <th>3</th>\n",
              "      <td>From: jgreen@amber (Joe Green)\\nSubject: Re: W...</td>\n",
              "      <td>1</td>\n",
              "      <td>comp.graphics</td>\n",
              "    </tr>\n",
              "    <tr>\n",
              "      <th>4</th>\n",
              "      <td>From: jcm@head-cfa.harvard.edu (Jonathan McDow...</td>\n",
              "      <td>14</td>\n",
              "      <td>sci.space</td>\n",
              "    </tr>\n",
              "    <tr>\n",
              "      <th>5</th>\n",
              "      <td>From: dfo@vttoulu.tko.vtt.fi (Foxvog Douglas)\\...</td>\n",
              "      <td>16</td>\n",
              "      <td>talk.politics.guns</td>\n",
              "    </tr>\n",
              "    <tr>\n",
              "      <th>6</th>\n",
              "      <td>From: bmdelane@quads.uchicago.edu (brian manni...</td>\n",
              "      <td>13</td>\n",
              "      <td>sci.med</td>\n",
              "    </tr>\n",
              "    <tr>\n",
              "      <th>7</th>\n",
              "      <td>From: bgrubb@dante.nmsu.edu (GRUBB)\\nSubject: ...</td>\n",
              "      <td>3</td>\n",
              "      <td>comp.sys.ibm.pc.hardware</td>\n",
              "    </tr>\n",
              "    <tr>\n",
              "      <th>8</th>\n",
              "      <td>From: holmes7000@iscsvax.uni.edu\\nSubject: WIn...</td>\n",
              "      <td>2</td>\n",
              "      <td>comp.os.ms-windows.misc</td>\n",
              "    </tr>\n",
              "    <tr>\n",
              "      <th>9</th>\n",
              "      <td>From: kerr@ux1.cso.uiuc.edu (Stan Kerr)\\nSubje...</td>\n",
              "      <td>4</td>\n",
              "      <td>comp.sys.mac.hardware</td>\n",
              "    </tr>\n",
              "  </tbody>\n",
              "</table>\n",
              "</div>"
            ],
            "text/plain": [
              "                                             content  ...              target_names\n",
              "0  From: lerxst@wam.umd.edu (where's my thing)\\nS...  ...                 rec.autos\n",
              "1  From: guykuo@carson.u.washington.edu (Guy Kuo)...  ...     comp.sys.mac.hardware\n",
              "2  From: twillis@ec.ecn.purdue.edu (Thomas E Will...  ...     comp.sys.mac.hardware\n",
              "3  From: jgreen@amber (Joe Green)\\nSubject: Re: W...  ...             comp.graphics\n",
              "4  From: jcm@head-cfa.harvard.edu (Jonathan McDow...  ...                 sci.space\n",
              "5  From: dfo@vttoulu.tko.vtt.fi (Foxvog Douglas)\\...  ...        talk.politics.guns\n",
              "6  From: bmdelane@quads.uchicago.edu (brian manni...  ...                   sci.med\n",
              "7  From: bgrubb@dante.nmsu.edu (GRUBB)\\nSubject: ...  ...  comp.sys.ibm.pc.hardware\n",
              "8  From: holmes7000@iscsvax.uni.edu\\nSubject: WIn...  ...   comp.os.ms-windows.misc\n",
              "9  From: kerr@ux1.cso.uiuc.edu (Stan Kerr)\\nSubje...  ...     comp.sys.mac.hardware\n",
              "\n",
              "[10 rows x 3 columns]"
            ]
          },
          "metadata": {
            "tags": []
          },
          "execution_count": 5
        }
      ]
    },
    {
      "cell_type": "markdown",
      "metadata": {
        "id": "BD9zBKXqlHCn"
      },
      "source": [
        "Removing emails and newline chars"
      ]
    },
    {
      "cell_type": "code",
      "metadata": {
        "id": "TpzbWAW7leN_",
        "outputId": "53e8368b-0a92-4b12-a0e2-98649f612373",
        "colab": {
          "base_uri": "https://localhost:8080/",
          "height": 390
        }
      },
      "source": [
        "# Convert to list\n",
        "data = df.content.values.tolist()\n",
        "\n",
        "# Remove Emails\n",
        "data = [re.sub(r'\\S*@\\S*\\s?', '', d) for d in data]\n",
        "\n",
        "# Remove new line characters\n",
        "data = [re.sub(r'\\s+', ' ', d) for d in data]\n",
        "\n",
        "# Remove distracting single quotes\n",
        "data = [re.sub(r\"\\'\", \"\", d) for d in data]\n",
        "\n",
        "pprint(data[:2])"
      ],
      "execution_count": null,
      "outputs": [
        {
          "output_type": "stream",
          "text": [
            "['From: (wheres my thing) Subject: WHAT car is this!? Nntp-Posting-Host: '\n",
            " 'rac3.wam.umd.edu Organization: University of Maryland, College Park Lines: '\n",
            " '15 I was wondering if anyone out there could enlighten me on this car I saw '\n",
            " 'the other day. It was a 2-door sports car, looked to be from the late 60s/ '\n",
            " 'early 70s. It was called a Bricklin. The doors were really small. In '\n",
            " 'addition, the front bumper was separate from the rest of the body. This is '\n",
            " 'all I know. If anyone can tellme a model name, engine specs, years of '\n",
            " 'production, where this car is made, history, or whatever info you have on '\n",
            " 'this funky looking car, please e-mail. Thanks, - IL ---- brought to you by '\n",
            " 'your neighborhood Lerxst ---- ',\n",
            " 'From: (Guy Kuo) Subject: SI Clock Poll - Final Call Summary: Final call for '\n",
            " 'SI clock reports Keywords: SI,acceleration,clock,upgrade Article-I.D.: '\n",
            " 'shelley.1qvfo9INNc3s Organization: University of Washington Lines: 11 '\n",
            " 'NNTP-Posting-Host: carson.u.washington.edu A fair number of brave souls who '\n",
            " 'upgraded their SI clock oscillator have shared their experiences for this '\n",
            " 'poll. Please send a brief message detailing your experiences with the '\n",
            " 'procedure. Top speed attained, CPU rated speed, add on cards and adapters, '\n",
            " 'heat sinks, hour of usage per day, floppy disk functionality with 800 and '\n",
            " '1.4 m floppies are especially requested. I will be summarizing in the next '\n",
            " 'two days, so please add to the network knowledge base if you have done the '\n",
            " 'clock upgrade and havent answered this poll. Thanks. Guy Kuo ']\n"
          ],
          "name": "stdout"
        }
      ]
    },
    {
      "cell_type": "markdown",
      "metadata": {
        "id": "kqkuMOZ2lM2L"
      },
      "source": [
        "**We need to tokenize the text and do some cleaning**\n",
        "This is so the LDA can consume it. Gensim has something called simple_preprocess that can help us with this\n"
      ]
    },
    {
      "cell_type": "code",
      "metadata": {
        "id": "B7lBRPaAovVh",
        "outputId": "5546ed6b-dc57-4676-ca06-d54830b7e7e4",
        "colab": {
          "base_uri": "https://localhost:8080/",
          "height": 54
        }
      },
      "source": [
        "def sent_to_words(sentences):\n",
        "  for sentence in sentences:\n",
        "    yield(gensim.utils.simple_preprocess(str(sentence), deacc=True))  # deacc removes punctuations\n",
        "\n",
        "data_words = list(sent_to_words(data))\n",
        "\n",
        "print(data_words[:2])"
      ],
      "execution_count": null,
      "outputs": [
        {
          "output_type": "stream",
          "text": [
            "[['from', 'wheres', 'my', 'thing', 'subject', 'what', 'car', 'is', 'this', 'nntp', 'posting', 'host', 'rac', 'wam', 'umd', 'edu', 'organization', 'university', 'of', 'maryland', 'college', 'park', 'lines', 'was', 'wondering', 'if', 'anyone', 'out', 'there', 'could', 'enlighten', 'me', 'on', 'this', 'car', 'saw', 'the', 'other', 'day', 'it', 'was', 'door', 'sports', 'car', 'looked', 'to', 'be', 'from', 'the', 'late', 'early', 'it', 'was', 'called', 'bricklin', 'the', 'doors', 'were', 'really', 'small', 'in', 'addition', 'the', 'front', 'bumper', 'was', 'separate', 'from', 'the', 'rest', 'of', 'the', 'body', 'this', 'is', 'all', 'know', 'if', 'anyone', 'can', 'tellme', 'model', 'name', 'engine', 'specs', 'years', 'of', 'production', 'where', 'this', 'car', 'is', 'made', 'history', 'or', 'whatever', 'info', 'you', 'have', 'on', 'this', 'funky', 'looking', 'car', 'please', 'mail', 'thanks', 'il', 'brought', 'to', 'you', 'by', 'your', 'neighborhood', 'lerxst'], ['from', 'guy', 'kuo', 'subject', 'si', 'clock', 'poll', 'final', 'call', 'summary', 'final', 'call', 'for', 'si', 'clock', 'reports', 'keywords', 'si', 'acceleration', 'clock', 'upgrade', 'article', 'shelley', 'qvfo', 'innc', 'organization', 'university', 'of', 'washington', 'lines', 'nntp', 'posting', 'host', 'carson', 'washington', 'edu', 'fair', 'number', 'of', 'brave', 'souls', 'who', 'upgraded', 'their', 'si', 'clock', 'oscillator', 'have', 'shared', 'their', 'experiences', 'for', 'this', 'poll', 'please', 'send', 'brief', 'message', 'detailing', 'your', 'experiences', 'with', 'the', 'procedure', 'top', 'speed', 'attained', 'cpu', 'rated', 'speed', 'add', 'on', 'cards', 'and', 'adapters', 'heat', 'sinks', 'hour', 'of', 'usage', 'per', 'day', 'floppy', 'disk', 'functionality', 'with', 'and', 'floppies', 'are', 'especially', 'requested', 'will', 'be', 'summarizing', 'in', 'the', 'next', 'two', 'days', 'so', 'please', 'add', 'to', 'the', 'network', 'knowledge', 'base', 'if', 'you', 'have', 'done', 'the', 'clock', 'upgrade', 'and', 'havent', 'answered', 'this', 'poll', 'thanks', 'guy', 'kuo']]\n"
          ],
          "name": "stdout"
        }
      ]
    },
    {
      "cell_type": "markdown",
      "metadata": {
        "id": "dvz3Tu5Z28tU"
      },
      "source": [
        "**Creating Bigram and Trigram Models**\n",
        "Bigrams are two words frequently occurring together in the document. Trigrams are 3 words frequently occurring."
      ]
    },
    {
      "cell_type": "code",
      "metadata": {
        "id": "cGmU6KsyoZvM"
      },
      "source": [
        "# Build the bigram and trigram models\n",
        "bigram = gensim.models.Phrases(data_words, min_count=5, threshold=100) # higher threshold fewer phrases.\n",
        "trigram = gensim.models.Phrases(bigram[data_words], threshold=100)  \n",
        "\n",
        "# Faster way to get a sentence clubbed as a trigram/bigram\n",
        "bigram_mod = gensim.models.phrases.Phraser(bigram)\n",
        "trigram_mod = gensim.models.phrases.Phraser(trigram)\n",
        "\n",
        "# See trigram example\n",
        "print(trigram_mod[bigram_mod[data_words[0]]])"
      ],
      "execution_count": null,
      "outputs": []
    },
    {
      "cell_type": "code",
      "metadata": {
        "id": "p04GXWGt3j9w",
        "outputId": "5739a6e5-4a5d-49a8-89a8-9e9d57a123c3",
        "colab": {
          "base_uri": "https://localhost:8080/",
          "height": 54
        }
      },
      "source": [
        "print(trigram_mod[data_words[10]])"
      ],
      "execution_count": null,
      "outputs": [
        {
          "output_type": "stream",
          "text": [
            "['from', 'irwin', 'arnstein', 'subject', 're', 'recommendation', 'on', 'duc', 'summary', 'whats', 'it', 'worth', 'distribution_usa', 'expires_sat', 'may', 'gmt', 'organization', 'computrac_inc', 'richardson_tx', 'keywords', 'ducati', 'gts', 'how', 'much', 'lines', 'have', 'line', 'on', 'ducati', 'gts', 'model', 'with', 'on', 'the', 'clock', 'runs', 'very', 'well', 'paint', 'is', 'the', 'bronze', 'brown', 'orange', 'faded', 'out', 'leaks', 'bit', 'of', 'oil', 'and', 'pops', 'out', 'of', 'st', 'with', 'hard', 'accel', 'the', 'shop', 'will', 'fix', 'trans', 'and', 'oil_leak', 'they', 'sold', 'the', 'bike', 'to', 'the', 'and', 'only', 'owner', 'they', 'want', 'and', 'am', 'thinking', 'more', 'like', 'any', 'opinions', 'out', 'there', 'please', 'email', 'me', 'thanks', 'it', 'would', 'be', 'nice', 'stable', 'mate', 'to', 'the', 'beemer', 'then', 'ill', 'get', 'jap', 'bike', 'and', 'call', 'myself', 'axis', 'motors', 'tuba', 'irwin', 'honk', 'therefore', 'am', 'computrac', 'richardson_tx', 'dod']\n"
          ],
          "name": "stdout"
        }
      ]
    },
    {
      "cell_type": "code",
      "metadata": {
        "id": "Z_NLb4Qr7_uM"
      },
      "source": [
        "# Define functions for stopwords, bigrams, trigrams and lemmatization\n",
        "def remove_stopwords(texts):\n",
        "    return [[word for word in simple_preprocess(str(doc)) if word not in stop_words] for doc in texts]\n",
        "\n",
        "def make_bigrams(texts):\n",
        "    return [bigram_mod[doc] for doc in texts]\n",
        "\n",
        "def make_trigrams(texts):\n",
        "    return [trigram_mod[bigram_mod[doc]] for doc in texts]\n",
        "\n",
        "def lemmatization(texts, allowed_postags=['NOUN', 'ADJ', 'VERB', 'ADV']):\n",
        "    \"\"\"https://spacy.io/api/annotation\"\"\"\n",
        "    texts_out = []\n",
        "    for sent in texts:\n",
        "        doc = nlp(\" \".join(sent)) \n",
        "        texts_out.append([token.lemma_ for token in doc if token.pos_ in allowed_postags])\n",
        "    return texts_out"
      ],
      "execution_count": null,
      "outputs": []
    },
    {
      "cell_type": "code",
      "metadata": {
        "id": "IDJ9yNCL8L68"
      },
      "source": [
        "# Remove Stop Words\n",
        "data_words_nostops = remove_stopwords(data_words)\n",
        "\n",
        "# Form Bigrams\n",
        "data_words_bigrams = make_bigrams(data_words_nostops)\n",
        "\n",
        "# Initialize spacy 'en' model, keeping only tagger component (for efficiency)\n",
        "# python3 -m spacy download en\n",
        "nlp = spacy.load('en', disable=['parser', 'ner'])\n",
        "\n",
        "# Do lemmatization keeping only noun, adj, vb, adv\n",
        "data_lemmatized = lemmatization(data_words_bigrams, allowed_postags=['NOUN', 'ADJ', 'VERB', 'ADV'])"
      ],
      "execution_count": null,
      "outputs": []
    },
    {
      "cell_type": "code",
      "metadata": {
        "id": "rg4i1vwF_QoK",
        "outputId": "3a1dae9b-ca56-4f29-b455-40f80c26a009",
        "colab": {
          "base_uri": "https://localhost:8080/",
          "height": 54
        }
      },
      "source": [
        "print(data_lemmatized[:20])"
      ],
      "execution_count": null,
      "outputs": [
        {
          "output_type": "stream",
          "text": [
            "[['where', 'thing', 'car', 'nntp_poste', 'host', 'park', 'line', 'wonder', 'could', 'enlighten', 'car', 'see', 'day', 'door', 'sport', 'car', 'look', 'late', 'early', 'call', 'bricklin', 'door', 'really', 'small', 'addition', 'separate', 'rest', 'body', 'know', 'tellme', 'model', 'name', 'engine', 'year', 'production', 'car', 'make', 'history', 'info', 'funky', 'look', 'car', 'mail', 'thank', 'bring', 'neighborhood', 'lerxst'], ['poll', 'final', 'call', 'summary', 'final', 'call', 'clock', 'report', 'keyword', 'acceleration', 'line', 'host', 'fair', 'number', 'brave', 'soul', 'upgrade', 'clock', 'oscillator', 'share', 'experience', 'poll', 'send', 'brief', 'message', 'detailing', 'experience', 'procedure', 'top', 'speed', 'attain', 'cpu', 'rate', 'speed', 'add', 'card', 'hour', 'usage', 'day', 'functionality', 'floppy', 'especially', 'request', 'summarize', 'next', 'day', 'add', 'network', 'knowledge', 'base', 'do', 'clock', 'upgrade', 'answer', 'poll', 'thank'], ['engineering', 'computer', 'network', 'distribution_usa', 'line', 'well', 'folk', 'finally', 'give', 'ghost', 'weekend', 'start', 'life', 'way', 'back', 'be', 'market', 'new', 'machine', 'bit', 'sooner', 'intend', 'be', 'look', 'pick', 'powerbook', 'maybe', 'bunch', 'question', 'hopefully', 'answer', 'know', 'dirt', 'powerbook', 'introduction', 'expect', 'would', 'hear', 'suppose', 'make', 'appearence', 'summer', 'hear', 'anymore', 'since', 'access', 'macleak', 'wonder', 'info', 'hear', 'rumor', 'price', 'drop', 'line', 'one', 'duos', 'go', 'recently', 's', 'impression', 'display', 'could', 'probably', 'swing', 'get', 'disk', 'rather', 'really', 'feel', 'much', 'well', 'display', 'yea', 'look', 'great', 'store', 'really', 'good', 'could', 'solicit', 'opinion', 'people', 'day', 'worth', 'take', 'disk', 'size', 'money', 'hit', 'get', 'active', 'display', 'realize', 'real', 'subjective', 'question', 'have', 'play', 'machine', 'computer', 'store', 'breifly', 'figure', 'opinion', 'actually', 'use', 'machine', 'daily', 'may', 'prove', 'helpful', 'hellcat', 'perform', 'thank', 'bunch', 'advance', 'info', 'could', 'email', 'summary', 'news', 'reading', 'time', 'premium', 'final', 'corner', 'conviction', 'dangerous_enemies', 'truth', 'lie', 'nietzsche'], ['division', 'line', 'host', 'write', 'write', 'article', 'know', 'chip', 'far', 'stuff', 'go', 'look', 'pretty', 'nice', 'get', 'quadrilateral', 'fill', 'command', 'require', 'point', 'weitek', 'address', 'phone', 'number', 'would', 'information', 'chip', 'division', 'thing', 'really', 'scare', 'person', 'sense', 'humor', 'winter'], ['question', 'distribution', 'article', 'write', 'clear', 'caution', 'warn', 'memory', 'verify', 'unexpected', 'error', 'wonder', 'expect', 'error', 'may', 'sorry', 'really', 'dumb', 'question', 'parity_error', 'memory', 'previously', 'know', 'condition', 'waivere', 'error', 'already', 'know', 'would', 'curious', 'real', 'meaning', 'expect', 'error', 'basically', 'know', 'bug', 'warn', 'system', 'software', 'thing', 'check', 'right', 'value', 'yet', 'set', 'launch', 'suchlike', 'rather', 'fix', 'code', 'possibly', 'introduce', 'new', 'bug', 'tell', 'crew', 'see', 'warn', 'ignore'], ['reword', 'idea', 'organization', 'article', 'tavare', 'write', 'article', 'write', 'article', 'tavare', 'write', 'article', 'write', 'massive', 'destructive', 'power', 'many', 'modern', 'weapon', 'make', 'cost', 'accidental', 'crimial', 'usage', 'weapon', 'great', 'weapon', 'need', 'control', 'government', 'individual', 'access', 'would', 'result', 'needless', 'death', 'million', 'make', 'right', 'people', 'keep', 'bear', 'many', 'modern', 'weapon', 'thank', 'state', 'be', 'come', 'needless', 'say', 'disagree', 'count', 'believe', 'individual', 'right', 'weapon', 'find', 'hard', 'believe', 'would', 'support', 'neighbor', 'right', 'keep', 'biological', 'weapon', 'nerve_ga', 'property', 'can', 'even', 'agree', 'keep', 'weapon', 'hand', 'individual', 'hope', 'sign', 'blank', 'check', 'course', 'term', 'must', 'rigidly', 'define', 'say', 'weapon', 'mean', 'say', 'weapon', 'street', 'sweeper', 'shotgun', 'sk', 'rifle', 'doubt', 'use', 'term', 'use', 'allegedly', 'back', 'say', 'weapon', 'immediately', 'follow', 'thousand', 'people', 'kill', 'year', 'handgun', 'number', 'easily', 'reduce', 'put', 'reasonable', 'restriction', 'read', 'article', 'present', 'first', 'argument', 'weapon', 'commonly', 'understand', 'switching', 'topic', 'first', 'point', 'evidently', 'show', 'weapon', 'allow', 'later', 'analysis', 'give', 'understanding', 'consider', 'class', 'believe', 'speak', 'company', 'write', 'today', 'packet'], ['tumor', 'treatment', 'thank', 'line', 'people', 'respond', 'info', 'treatment', 'astrocytoma', 'email', 'could', 'thank', 'directly', 'mail', 'bounce', 'think', 'would', 'publicly', 'thank', 'be', 'sure', 'glad', 'accidentally', 'hit', 'instead', 'try', 'delete', 'file', 'last', 's'], ['scsi', 'state', 'nm', 'line', 'host', 'dante_nmsu', 'write', 'article', 'say', 'fasst', 'esdi', 'faster', 'ide', 'support', 'device', 'acceptance', 'long', 'stall', 'incompatability', 'problem', 'installation', 'headache', 'love', 'magazine', 'writer', 'make', 'stupid', 'statement', 'performance', 'get', 'number', 'ill', 'list', 'actual', 'performance', 'range', 'convince', 'statement', 'absurd', 'scsi', 'range', 'range', 'range', 'esdi', 'always', 'mb', 'non', 'standard', 'version', 'show', 'know', 'much', 'scsi', 'scsi', 'chip', 'range', 'indeed', 'scsi', 'scsi', 'chip', 'mb', 'bit', 'note', 'increase', 'use', 'version', 'scsi', 'exist', 'pc', 'set', 'scsi', 'bit', 'scsi', 'mode', 'scsi', 'bit', 'wide', 'fast', 'mode', 'scsi', 'bit', 'wide', 'fast', 'datum', 'twice', 'fast', 'esdi', 'correct', 'scsi_controll', 'chip', 'scsi', 'reach', 'indeed', 'faster', 'ide', 'scsi', 'fact', 'post', 'sheet', 'available', 'compare', 'version', 'txt', 'may', 'still', 'part', 'problem', 'inconsiant', 'scsi', 'though', 'well', 'document', 'say', 'use', 'fast', 'scsi', 'chip', 'scsi', 'maximum', 'synchronous', 'use', 'ansynchronous', 'seem', 'see', 'interface', 'think', 'scsi', 'maybe', 'scsi', 'interface', 'drive', 'machine', 'chip', 'bit', 'mode', 'much', 'faster', 'true', 'scsi', 'go', 'article', 'understand', 'go', 'reference', 'quadras', 'chip', 'review'], ['win', 'icon', 'help', 'please', 'line', 'win', 'download', 'several', 'icon', 'bmp', 'can', 'figure', 'change', 'wallpaper', 'icon', 'help', 'would', 'appreciated', 'mail'], ['stan_kerr', 'sigma_design', 'double', 'article', 'line', 'write', 'looking', 'information', 'sigma_design', 'double', 'board', 'figure', 'work', 'autodoubler', 'sure', 'also', 'much', 'would', 'cost', 'have', 'board', 'year', 'work', 'diskdoubler', 'autodoubler', 'due', 'licensing', 'problem', 'stac', 'technology', 'owner', 'board', 'compression', 'technology', 'be', 'write', 'memory', 'have', 'lose', 'reference', 'correct', 'be', 'wrong', 'use', 'board', 'have', 'problem', 'file', 'icon', 'lose', 'hard', 'say', 'board', 'fault', 'else', 'however', 'decompress', 'trouble', 'file', 'recompress', 'board', 'icon', 'usually', 'reappear', 'mention', 'licensing', 'problem', 'freeware', 'expansion', 'utility', 'compress', 'file', 'board', 'instal', 'product', 'seem', 'unlikely', 'hole', 'diskdoubler', 'relate', 'board', 'fix', 'sad', 'make', 'reluctant', 'buy', 'stacs', 'product', 'be', 'stinky', 's', 'competition', 'computing', 'office', 'email'], ['summary', 's', 'worth', 'distribution_usa', 'may', 'gmt', 'organization', 'computrac_inc', 'keyword', 'ducati', 'gts', 'much', 'line', 'line', 'ducati', 'model', 'clock', 'run', 'paint', 'bronze', 'fade', 'leak', 'bit', 'oil', 'shop', 'fix', 'sell', 'bike', 'owner', 'want', 'think', 'opinion', 'email', 'thank', 'would', 'nice', 'stable', 'mate', 'get', 'bike', 'call', 'motor', 'therefore'], ['question', 'popular', 'morality', 'reply', 'line', 'article', 'write', 'previous', 'article', 'say', 'mean', 'think', 'hold', 'wrong', 'end', 'different', 'look', 'post', 'see', 'mean', 'intent', 'explain', 'could', 'overlook', 'main', 'line', 'think', 'seem', 'say', 'unknowable', 's', 'pretty', 'much', 'be', 'understand', 'jewish', 'way', 'think', 'however', 'believe', 'case', 'establish', 'moral', 'code', 'follow', 'mankind', 'even', 'could', 'decide', 'boundary', 'fall', 'understand', 'believe', 'require', 'ancestor', 'modern', 'judaism', 'believe', 'available', 'interpretation', 'lead', 'understanding', 'require', 'morality', 'nuance', 'man', 'necessarily', 'indicate', 'relationship', 'speculate', 'first', 'thing', 'come', 'mind', 'man', 'suppose', 'create', 'image', 'argument', 'commit', 'moral', 'code', 'follow', 'part', 'try', 'live', 'image', 'suppose', 'live', 'christ', 'example', 'would', 'hard', 'pressed', 'argue', 'say', 'guy', 'trouble', 'really', 'know', 'create', 'image', 'mean', 'have', 'hear', 'number', 'different', 'opinion', 'still', 'come', 'conclusion', 'rather', 'upset', 'apple', 'want', 'base', 'mix', 'unashamedly', 'live', 'christ', 'example', 'know', 'little', 'person', 'record', 'utterance', 'set', 'narrative', 'follower', 'small', 'revelation', 'aside', 'know', 'second', 'hand', 'bad', 'attempt', 'may', 'seem', 'way', 'initially', 'point', 'try', 'make', 'really', 'interpret', 'humanity', 'faith', 'relevation', 'come', 'inherent', 'subjectiveness', 'metaphysically', 'multiple', 'absolute', 'moral', 'code', 'think', 'theologically', 'questionable', 'may', 'absolute', 'moral', 'code', 'undoubtably', 'multiple', 'multiple', 'may', 'found', 'absolute', 'moral', 'example', 'parent', 'may', 'tell', 'child', 'never', 'swear', 'child', 'may', 'assume', 'parent', 'never', 'swear', 'simply', 'parent', 'tell', 'child', 'wrong', 'parent', 'may', 'swear', 'trooper', 'pub', 'bar', 'child', 'wrongness', 'child', 'disobey', 'parent', 'parent', 'may', 'feel', 'inappropriate', 'swear', 'front', 'child', 'may', 'quite', 'happy', 'swear', 'front', 'animal', 'analogy', 'quite', 'hold', 'water', 'child', 'know', 'type', 'parent', 'may', 'parent', 'later', 'life', 'get', 'gist', 'incidentally', 'young', 'child', 'consider', 'directive', 'get', 'old', 'see', 'piaget', 'learn', 'religion', 'sea', 'fish', 'cry'], ['fekvh', 'line', 'regard', 'rod', 'cerkoney', 'co'], ['redesign_jsc', 'alternative', 'center', 'line', 'host', 'article', 'write', 'description', 'external_tank', 'option', 'delete', 'mark', 'propose', 'report', 'warmly', 'receive', 'however', 'rumor', 'hear', 'say', 'design', 'base', 'wingless', 'orbiter', 'seem', 'likely', 'let', 'keep', 'top', 'thing', 'external_tank', 'wingless', 'orbiter', 'option', 'delete', 'option', 'list', 'today', 'report', 'tell', 'panel', 'proposal', 'drop', 'use', 'giant', 'external', 'fuel', 'tank', 'use', 'launch', 'space', 'shuttle', 'building', 'station', 'exist', 'wing', 'tail', 'remove', 'currently', 'option', 'consider', 'present', 'meeting', 'yesterday', 'report', 'today', 'time', 'option', 'low', 'cost', 'modular', 'approach', 'option', 'study', 'team', 'aside', 'team', 'support', 'team', 'folk', 'also', 'site', 'location', 'help', 'respective', 'team', 'redesign', 'activity', 'key', 'feature', 'option', 'use', 'bus', 'modular', 'bus', 'develop', 's', 'qualified', 'st', 'bus', 'provide', 'propulsion', 'datum', 'management', 'develop', 'power', 'station', 'capability', 'obtain', 'shuttle', 'flight', 'use', 'provide', 'power', 'fly', 'microgravity', 'environment', 'shuttle', 'spacelab', 'mission', 'would', 'utilize', 'power', 'mission', 'human', 'tend', 'capability', 'oppose', 'old', 'sexist', 'term', 'man', 'tend', 'capability', 'achieve', 'addition', 'common', 'module', 'modify', 'version', 'exist', 'docking', 'port', 'add', 'international', 'partner', 'lab', 'take', 'place', 'node', 'dock', 'day', 'mission', 'orbiter', 'would', 'provide', 'crew', 'habitability', 'tend', 'add', 'module', 'add', 'power', 'permanent', 'human', 'presence', 'capability', 'add', 'power', 'module', 'acrv', 'assure', 'crew', 'return', 'vehicle', 'option', 'freedom', 'derive', 'option', 'team', 'base', 'look', 'alot', 'exist', 'ssf', 'design', 'come', 'know', 'love', 'option', 'assume', 'lightweight', 'available', 'assembly', 'flight', 'option', 'also', 'number', 'flight', 'compute', 'inclination', 'orbit', 'option', 'build', 'occur', 'phase', 'initial', 'research', 'capability', 'reach', 'flight', 'power', 'transfer', 'vehicle', 'orbiter', 'spacelab', 'visit', 'man', 'tend', 'adopt', 'non', 'sexist', 'language', 'achieve', 'flight', 'lab', 'deploy', 'solar', 'power', 'module', 'provide', 'power', 'permanent', 'human', 'presence', 'capability', 'occur', 'flight', 'keep', 'orbiter', 'orbit', 'acrv', 'sometimes', 'would', 'orbiter', 'orbit', 'acrv', 'second', 'one', 'come', 'logistic', 'supply', 'fault', 'tolerance', 'capability', 'achieve', 'flight', 'addition', 'power', 'module', 'thermal', 'control', 'system', 'radiator', 'propulsion', 'board', 'module', 'acrv', 'add', 'assembly', 'flight', 'system', 'currently', 'ssf', 'use', 'option', 'exception', 'datum', 'management', 'system', 'major', 'change', 'option', 'single', 'core', 'launch', 'station', 'jsc', 'lead', 'option', 'basically', 'take', 'diameter', 'cylinder', 's', 'long', 'slap', 'main', 'engine', 'backside', 'put', 'nose', 'cone', 'top', 'attach', 'regular', 'shuttle', 'external_tank', 'regular', 'set', 'solid_rocket', 'motor', 'launch', 'key', 'feature', 'complete', 'end', 'end', 'ground', 'integration', 'checkout', 'tangentially', 'mount', 'fix', 'body', 'mount', 'radiator', 'add', 'docking', 'port', 'end', 'berthing', 'port', 'single', 'pressurize', 'volume', 'approximately', 'cubic', 'foot', 'twice', 'volume', 'skylab', 'floor', 'center', 'passageway', 'floor', 'housekeeping', 'power', 'graceful', 'degradation', 'failure', 'power', 'channel', 'thermal', 'loop', 'dual', 'environmental', 'control', 'life', 'support', 'system', 'increase', 'crew', 'time'], ['move', 'sale', 'line', 'host', 'reduce', 'price', 'list', 'thing', 'brother', 's', 'move', 'move', 'already', 'offer', 'black', 'decker', 'duster', 'portable', 'hand', 'vaccum', 'purchase', 'portable', 'player', 'high', 'speed', 'dub', 'duo', 'tape', 'seem', 'lose', 'treble', 'sound', 'bet', 'fixable', 'purchase', 'magnification', 'make', 'include', 'case', 'accessory', 'purchase', 'hair', 'put', 'head', 'know', 'one', 'see', 'salon', 'ask', 'purchase', 'everylast', 'speed', 'bag', 'leather', 'brand_new', 'never', 'use', 'osterizer', 'pusle', 'matic', 'blender', 'speed', 'cookbook', 'year', 'old', 'purchase', 'binocular', 'extra', 'wide', 'proctor', 'dry', 'iron', 'new', 'question', 'contact', 'mail', 'reply', 'expeditously', 'always', 'include', 'consider', 'lastly', 'be', 'reasonable', 'reasonable', 'thank'], ['organization', 'line', 'write', 'almost', 'sure', 'immediate', 'painless', 'method', 'death', 'insert', 'soem', 'form', 'ethnic', 'minority', 'group', 'kill', 'mutilate', 'exterminated', 'history', 'guess', 'unusual', 'would', 'agree', 'holocost', 'would', 'allow', 'constitution', 'far', 'punishment', 'doubt', 'recieve', 'would', 'consider', 'fair', 'trial', 'standard', 'sure', 'look', 'happen', 'japanese', 'citizen', 'be', 'prepare', 'say', 'let', 'round', 'people', 'stick', 'trial', 'short', 'step', 'gassing', 'trial', 'seem', 'originally', 'intend', 'partly', 'could', 'afford', 'run', 'camp', 'devastation', 'cause', 'war', 'gas', 'generally', 'die', 'malnutrition', 'disease'], ['significance', 'organization', 'line', 'article', 'write', 'library', 'read', 'write', 'tiff', 'file', 'take', 'good', 'minute', 'start', 'use', 'app', 'certainly', 'whenever', 'usually', 'work', 'well', 's', 'point', 'be', 'philosophically', 'oppose', 'complexity', 'complexity', 'lead', 'program', 'poor', 'tiff', 'writer', 'make', 'bizarre', 'file', 'program', 'inability', 'load', 'tiff', 'image', 'will', 'save', 'course', 'general', 'inability', 'interchange', 'image', 'different', 'environment', 'fact', 'think', 'saying', 'go', 'be', 'worried', 'asshole', 'have', 'big', 'trouble', 'misuse', 'abuse', 'chalk', 'unnecessary', 'complexity', 'format', 'word', 'capitalize', 'emphasis', 'mine', 'problem', 'sort', 'success', 'tiff', 'design', 'powerful', 'flexible', 'expense', 'simplicity', 'take', 'fair_amount', 'effort', 'handle', 'option', 'currently', 'define', 'specification', 'probably', 'application', 'complete', 'job', 'currently', 'way', 'sure', 'able', 'import', 'tiff', 'image', 'many', 'image', 'generating', 'application', 'program', 'bad', 'application', 'can', 'read', 'tiff', 'image', 'mean', 'will', 'may', 'deal', 'would', 'want', 'image', 'trap', 'format', 'agree', 'reason', 'course'], ['insurance', 'rate', 'performance', 'car', 'line', 'latech', 'newsreader_nnr', 'recently', 'post', 'article', 'ask', 'kind', 'rate', 'single', 'male', 'driver', 'yrs', 'old', 'pay', 'performance', 'car', 'here', 'summary', 'reply', 'receive', 'be', 'anymore', 'close', 'enough', 'twin', 'turbo', 'model', 'ticket', 'accident', 'take', 'defensive', 'driving', 'airbag', 'security', 'single', 'year', 'state', 'farm', 'insurance', 'include', 'additional', 'umbrella', 'policy', 'car', 'house', 'base', 'policy', 'standard', 'policy', 'require', 'defensive', 'drive', 'course', 'less', 'buy', 'car', 'company', 'never', 'accident', 'ticket', 'year', 'quote', 'hope', 'help', 'remember', 'name', 'correctly', 'ask', 'insurance', 'performance', 'car', 'well', 'last', 'year', 'similar', 'situation', 'buy', 'car', 'make', 'inquiry', 'age', 'car', 'drive', 'record', 'turn', 'may', 'insurance', 'go', 'mos', 'also', 'be', 'single', 'incur', 'high', 'rate', 'company', 'have', 'get', 'couple', 'friend', 'pay', 'different', 'in', 'company', 'also', 'maybe', 'be', 'lucky', 'hope', 'info', 'help', 'group', 'be', 'thunderbird', 'sc', 'never', 'make', 'claim', 'insurance', 'though', 'hit', 'several', 'time', 'negligent', 'driver', 'could', 'see', 'stop', 'sign', 'fiddle', 'radio', 'move', 'violation', 'last', 'month', 'go', 'failure', 'clear', 'intersection', 'still', 'say', 'damn', 'light', 'yellow', 'one', 'go', 'go', 'record', 'rate', 'state', 'passive', 'restraint', 'deduction', 'liability', 'deductible', 'comprehensive', 'deductible', 'collision', 'roughly', 'year', 'pay', 'year', 'disclaimer', 'be', 'engineer', 'play', 'work', 'hell', 'thing', 'kill', 'man', 'take', 'away', 's', 'ever', 'go', 'age', 'group', 'experience', 'may', 'interesting', 'own', 'decide', 'buy', 'gift', 'exotic', 'car', 'front', 'runner', 'include', 'model', 'year', 'narrow', 'like', 'simplicity', 'handling', 'snob', 'appeal', 'drive', 'turbo', 'less', 'money', 'feature', 'performance', 'almost', 'personal', 'luxury', 'car', 'well', 'acceleration', 'high', 'top', 'speed', 'almost', 'ready', 'give', 'buying', 'impulse', 'decide', 'stop', 'insurance', 'agent', 'office', 'way', 'ask', 'would', 'happen', 'rate', 'car', 'buy', 'rate', 'consider', 'year', 'rate', 'safe', 'car', 'slight', 'increase', 'car', 'year', 'new', 'low', 'risk', 'division', 'continue', 'handle', 'account', 'buy', 'change', 'standard', 'high', 'rate', 'company', 'rate', 'double', 'go', 'story', 'well', 'cover', 'rest', 'year', 'much', 'faster', 'actually', 'fast', 'standard', 'make', 'sense', 'book', 'say', 'insure', 'corvette', 'reason', 'underwriter', 'consider', 'supra', 'driver', 'traditional', 'conservative', 'eventually', 'go', 'number', 'reason', 'porsche', 'dealer', 'nice', 'salesman', 'get', 'interested', 'tough', 'high', 'pressure', 'guy', 'back', 'room', 'equal', 'monthly', 'payment', 'would', 'take', 'year', 'longer', 'pay', 'porsche', 'high', 'insurance', 'conclude', 'high', 'insurance', 'relate', 'probability', 'auto', 'theft', 'everyone', 'entitle', 'opinion', 'imagination', 'important', 'knowledge', 'live', 'idaho', 'many', 'year', 'buy', 'insurance', 'year', 'turn', 'immediately', 'drop', 'year', 'accident', 'strictly', 'age', 'change', 'rate', 'stay', 'pretty', 'much', 'sell', 'car', 'pickup', 'year', 'less', 'real', 'amazing', 'thing', 'wake', 'age', 'feel', 'much', 'responsible', 'information', 'single', 'move', 'violation', 'year', 'let', 'see', 'be', 'single', 'male', 'clean', 'driving', 'record', 'pay', 'year', 'good', 'deal', 'ask', 'think', 'get', 'talon', 'think', 'insurance', 'high', 'turbo', 'sport', 'car', 'clean', 'record', 'small', 'town', 'around', 'year', 'age', 'nearby', 'city', 'rate', 'higher', 'have', 'get', 'insure', 'protege', 'year', 'year', 'old', 'state', 'insurance', 'state', 'farm', 'info', 'car', 'co', 'insurance', 'yearly', 'insurance', 'age', 'date', 'license', 'mountain_view', 'move', 'violation', 'hope', 'help', 'post', 'summary', 'possible', 'vijay', 'email', 'single', 'year', 'old', 'turbo', 'full', 'cover', 'reasonable', 'liability', 'ticket', 'violation', 'accident', 'knock', 'wood', 'mass', 'thing', 'make', 'huge', 'difference', 'mass', 'town', 'live', 'be', 'personally', 'good', 'town', 'reasonable', 'distance', 'move', 'best', 'would', 'go', 'move', 'bad', 'would', 'also', 'accident', 'couple', 'ticket', 'would', 'probably', 'add', 'year', 'old', 'ticket', 'go', 'record', 'year', 'full', 'coverage', 'state', 'farm', 'get', 'small', 'discount', 'alarm', 'system', 'year', 'live', 'actually', 'live', 'city', 'price', 'would', 'year', 'be', 'case', 'be', 'interested', 'be', 'insure', 'month', 's', 'personal', 'total', 'property', 'deductible', 'glass', 'towing', 'state', 'farm', 'drive', 'less', 'year', 'think', 'seriously', 'rip', 'performance', 'car', 'list', 'record', 'clean', 'pay', 'try', 'call', 'insurance', 'dealer', 'could', 'find', 'rate', 'suppose', 'standardize', 'have', 'find', 'place', 'initially', 'call', 'give', 'ridiculously', 'high', 'hit', 'much', 'low', 'also', 'change', 'insurance_companie', 'rate', 'go', 'renewal', 'accident', 'ticket', 'car', 'get', 'old', 'maintain', 'low', 'rate', 'always', 'careful', 'come', 'insurance_companies', 'serge'], ['seek', 'material', 'lab', 'line', 'would', 'like', 'able', 'amplify', 'voltage', 'signal', 'output', 'thermocouple', 'preferably', 'factor', 'result', 'voltage', 'feed', 'easily', 'personal', 'computer', 'base', 'datum', 'acquisition', 'card', 'may', 'able', 'point', 'reference', 'circuit', 'see', 'simple', 'amplifier', 'circuit', 'sure', 'work', 'practice', 'case', 'would', 'amplify', 'sufficiently', 'nicely', 'use', 'thermocouple', 'say', 'degree', 'accuracy', 'well', 'pointer', 'would', 'greatly_appreciate'], ['distribution_usa', 'line', 'question', 'exact', 'entry', 'parameter', 'syntax', 'terminal', 'configuration', 'file', 'load', 'terminal', 'boot', 'add', 'system', 'tcp_ip', 'access', 'control', 'list', 'system', 'run', 'mit', 'want', 'window', 'terminal', 'time', 'manually', 'set', 'network', 'parameter', 'access', 'control', 'list', 'telnet', 'session', 'great', 'have', 'try', 'get', 'xhost', 'work', 'fail', 'syntax', 'wrong', 'implementation', 'bogus', 'try', 'edit', 'ncd', 'configuration', 'file', 'load', 'boot', 'matter', 'entry', 'add', 'still', 'boot', 'tcp_ip', 'access', 'control', 'list', 'contain', 'manual', 'worthless', 'help', 'would', 'appreciate', 'thank']]\n"
          ],
          "name": "stdout"
        }
      ]
    }
  ]
}